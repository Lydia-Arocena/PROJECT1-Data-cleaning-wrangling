{
 "cells": [
  {
   "cell_type": "code",
   "execution_count": 1,
   "id": "fe4fa27f",
   "metadata": {
    "scrolled": true
   },
   "outputs": [],
   "source": [
    "import pandas as pd\n",
    "import numpy as np\n",
    "import seaborn as sb\n",
    "df_attacks = pd.read_csv(\"DATA/attacks.csv\",encoding = \"ISO-8859-1\")\n",
    "import re\n",
    "import sys\n",
    "sys.path.append('../')\n",
    "\n",
    "import src.cleaning_functions as cf"
   ]
  },
  {
   "cell_type": "markdown",
   "id": "00b83f4c",
   "metadata": {},
   "source": [
    "### MIS 3 HIPÓTESIS SON:\n",
    "- En 2018 hubo más ataques de tiburones tigre en el hemisferio sur que en 1990.\n",
    "- En México hay más ataques de tiburones blancos que en USA.\n",
    "- La mayoría de las víctimas que bucean son mujeres."
   ]
  },
  {
   "cell_type": "markdown",
   "id": "f991d832",
   "metadata": {},
   "source": [
    "Por tanto, para verificar o refutar las 3 hipótesis planteadas, voy a utilizar las siguientes columnas:\n",
    "- Year\n",
    "- Country\n",
    "- Activity\n",
    "- Sex\n",
    "- Species"
   ]
  },
  {
   "cell_type": "markdown",
   "id": "18766e1b",
   "metadata": {},
   "source": [
    "La forma de mi df es:"
   ]
  },
  {
   "cell_type": "code",
   "execution_count": 2,
   "id": "33d65c36",
   "metadata": {},
   "outputs": [
    {
     "data": {
      "text/plain": [
       "(25723, 24)"
      ]
     },
     "execution_count": 2,
     "metadata": {},
     "output_type": "execute_result"
    }
   ],
   "source": [
    "df_attacks.shape #Ha cambiado porque ya he quitado todas las filas de Nan."
   ]
  },
  {
   "cell_type": "markdown",
   "id": "c2d49910",
   "metadata": {},
   "source": [
    "### 1. Borro las filas que sean enteras NaN. "
   ]
  },
  {
   "cell_type": "code",
   "execution_count": 3,
   "id": "0f1942db",
   "metadata": {},
   "outputs": [],
   "source": [
    "df_attacks.dropna(how=\"all\", inplace=True)"
   ]
  },
  {
   "cell_type": "markdown",
   "id": "912bcfc1",
   "metadata": {},
   "source": [
    "Voy a proceder a eliminar las columnas del dataframe que, de primeras, no me van a ser de utilidad:"
   ]
  },
  {
   "cell_type": "code",
   "execution_count": 4,
   "id": "7819e135",
   "metadata": {},
   "outputs": [],
   "source": [
    "df_attacks.drop([\"Case Number\",\"pdf\",\"href formula\",\"href\",\"Case Number.1\",\"Case Number.2\",\"original order\",\"Unnamed: 22\",\"Unnamed: 23\"], axis=1, inplace=True)"
   ]
  },
  {
   "cell_type": "markdown",
   "id": "4c72fae2",
   "metadata": {},
   "source": [
    "### 2. Borro las filas duplicadas."
   ]
  },
  {
   "cell_type": "markdown",
   "id": "c176238d",
   "metadata": {},
   "source": [
    "Comprobamos que hemos pasado de 8703 a 6302 filas"
   ]
  },
  {
   "cell_type": "code",
   "execution_count": 5,
   "id": "993c5e32",
   "metadata": {},
   "outputs": [
    {
     "data": {
      "text/plain": [
       "(6302, 15)"
      ]
     },
     "execution_count": 5,
     "metadata": {},
     "output_type": "execute_result"
    }
   ],
   "source": [
    "borrado=df_attacks.drop_duplicates()\n",
    "borrado.shape\n"
   ]
  },
  {
   "cell_type": "markdown",
   "id": "17cbb688",
   "metadata": {},
   "source": [
    "### 3. Cambio el nombre de las columnas porque hay algunas que contienen espacios. "
   ]
  },
  {
   "cell_type": "markdown",
   "id": "c631e989",
   "metadata": {},
   "source": [
    "Imprimiendo la lista de columnas comprobamos que solo haría falta cambiar el nombre de \"Sex\" y \"Species\"."
   ]
  },
  {
   "cell_type": "code",
   "execution_count": 6,
   "id": "e42d0ff7",
   "metadata": {},
   "outputs": [],
   "source": [
    "para_Sex = {'Sex ': 'Sex'}"
   ]
  },
  {
   "cell_type": "code",
   "execution_count": 7,
   "id": "71be4452",
   "metadata": {},
   "outputs": [
    {
     "name": "stderr",
     "output_type": "stream",
     "text": [
      "/home/lydia/anaconda3/envs/ironhack/lib/python3.8/site-packages/pandas/core/frame.py:5039: SettingWithCopyWarning: \n",
      "A value is trying to be set on a copy of a slice from a DataFrame\n",
      "\n",
      "See the caveats in the documentation: https://pandas.pydata.org/pandas-docs/stable/user_guide/indexing.html#returning-a-view-versus-a-copy\n",
      "  return super().rename(\n"
     ]
    }
   ],
   "source": [
    "borrado.rename(columns=para_Sex,inplace=True)"
   ]
  },
  {
   "cell_type": "code",
   "execution_count": 8,
   "id": "3d6418e5",
   "metadata": {},
   "outputs": [],
   "source": [
    "para_Species={'Species ': 'Species'}"
   ]
  },
  {
   "cell_type": "code",
   "execution_count": 9,
   "id": "2725229a",
   "metadata": {},
   "outputs": [],
   "source": [
    "borrado.rename(columns=para_Species, inplace=True)"
   ]
  },
  {
   "cell_type": "markdown",
   "id": "bdcb7878",
   "metadata": {},
   "source": [
    "Con \".info\" veo qué tipos de datos tengo y veo que todos son categóricos:"
   ]
  },
  {
   "cell_type": "code",
   "execution_count": 10,
   "id": "cd8f4200",
   "metadata": {},
   "outputs": [
    {
     "name": "stdout",
     "output_type": "stream",
     "text": [
      "<class 'pandas.core.frame.DataFrame'>\n",
      "Int64Index: 6302 entries, 0 to 6302\n",
      "Data columns (total 15 columns):\n",
      " #   Column                  Non-Null Count  Dtype  \n",
      "---  ------                  --------------  -----  \n",
      " 0   Date                    6301 non-null   object \n",
      " 1   Year                    6299 non-null   float64\n",
      " 2   Type                    6297 non-null   object \n",
      " 3   Country                 6251 non-null   object \n",
      " 4   Area                    5846 non-null   object \n",
      " 5   Location                5761 non-null   object \n",
      " 6   Activity                5757 non-null   object \n",
      " 7   Name                    6091 non-null   object \n",
      " 8   Sex                     5736 non-null   object \n",
      " 9   Age                     3471 non-null   object \n",
      " 10  Injury                  6273 non-null   object \n",
      " 11  Fatal (Y/N)             5762 non-null   object \n",
      " 12  Time                    2948 non-null   object \n",
      " 13  Species                 3463 non-null   object \n",
      " 14  Investigator or Source  6284 non-null   object \n",
      "dtypes: float64(1), object(14)\n",
      "memory usage: 787.8+ KB\n"
     ]
    }
   ],
   "source": [
    "borrado.info()"
   ]
  },
  {
   "cell_type": "markdown",
   "id": "bc2e31cf",
   "metadata": {},
   "source": [
    "### 4. Remplazo los \"nan\" por \"Unkown\". "
   ]
  },
  {
   "cell_type": "markdown",
   "id": "f879475b",
   "metadata": {},
   "source": [
    "Para ello, uso un bucle que itere por cada uno de los elementos de mi lista de columnas:"
   ]
  },
  {
   "cell_type": "code",
   "execution_count": 11,
   "id": "1dacd45e",
   "metadata": {},
   "outputs": [
    {
     "name": "stdout",
     "output_type": "stream",
     "text": [
      "['Date', 'Year', 'Type', 'Country', 'Area', 'Location', 'Activity', 'Name', 'Sex', 'Age', 'Injury', 'Fatal (Y/N)', 'Time', 'Species', 'Investigator or Source']\n"
     ]
    }
   ],
   "source": [
    "listacolumnas=list(borrado.columns)\n",
    "print(listacolumnas)"
   ]
  },
  {
   "cell_type": "code",
   "execution_count": 12,
   "id": "81a37096",
   "metadata": {},
   "outputs": [
    {
     "name": "stderr",
     "output_type": "stream",
     "text": [
      "/home/lydia/anaconda3/envs/ironhack/lib/python3.8/site-packages/pandas/core/generic.py:6392: SettingWithCopyWarning: \n",
      "A value is trying to be set on a copy of a slice from a DataFrame\n",
      "\n",
      "See the caveats in the documentation: https://pandas.pydata.org/pandas-docs/stable/user_guide/indexing.html#returning-a-view-versus-a-copy\n",
      "  return self._update_inplace(result)\n"
     ]
    }
   ],
   "source": [
    "for elemento in listacolumnas:\n",
    "    borrado[elemento].fillna((\"Unknown\"), inplace=True)\n"
   ]
  },
  {
   "cell_type": "markdown",
   "id": "39f71219",
   "metadata": {},
   "source": [
    "### 5. Voy a empezar a armonizar los elementos de cada columna para disminuir el número de valores únicos.\n"
   ]
  },
  {
   "cell_type": "markdown",
   "id": "3f0b6764",
   "metadata": {},
   "source": [
    "### 5.1. Usando \".replace\" cuando no hay muchos valores únicos: \"Sex\", \"Type\" & \"Fatal (Y/N)\"."
   ]
  },
  {
   "cell_type": "markdown",
   "id": "45df9d70",
   "metadata": {},
   "source": [
    "#### A. Sex."
   ]
  },
  {
   "cell_type": "markdown",
   "id": "240d1ff0",
   "metadata": {},
   "source": [
    "Empiezo por la columna de \"Sex\".\n",
    "- Compruebo los valores únicos de la columna \"Sex\".\n",
    "- Sustituyo la \"M con espacio\" por la \"M normal\". El resto las replazo por \"unkonwn\" y me quedo únicamente por M y F. \n",
    "- Compruebo de nuevo los valores únicos de \"Sex\" y veo que se han reducido a:\"F\",\"M\",\"nan\" y \"Unknown\"."
   ]
  },
  {
   "cell_type": "code",
   "execution_count": 35,
   "id": "0cb74bf5",
   "metadata": {},
   "outputs": [
    {
     "data": {
      "text/plain": [
       "array(['F', 'M', 'Unknown'], dtype=object)"
      ]
     },
     "execution_count": 35,
     "metadata": {},
     "output_type": "execute_result"
    }
   ],
   "source": [
    "borrado[\"Sex\"].unique()\n",
    "\n",
    "df2=borrado.replace({'M ':'M','lli':'Unknown','N':'Unknown','.':'Unknown'})\n",
    "\n",
    "df2[\"Sex\"].unique()\n"
   ]
  },
  {
   "cell_type": "markdown",
   "id": "4d56dceb",
   "metadata": {},
   "source": [
    "#### B. Type."
   ]
  },
  {
   "cell_type": "markdown",
   "id": "ae8b9512",
   "metadata": {},
   "source": [
    "Veo cuáles son los valores únicos de la columna \"Type\" y luego hago replace para armonizar sus elementos y reducirlos a 5:"
   ]
  },
  {
   "cell_type": "code",
   "execution_count": 14,
   "id": "dd82bf25",
   "metadata": {},
   "outputs": [
    {
     "data": {
      "text/plain": [
       "Unprovoked      4594\n",
       "Provoked         574\n",
       "Invalid          549\n",
       "Boating          341\n",
       "Sea Disaster     239\n",
       "Unknown            5\n",
       "Name: Type, dtype: int64"
      ]
     },
     "execution_count": 14,
     "metadata": {},
     "output_type": "execute_result"
    }
   ],
   "source": [
    "#tipo=df2[\"Type\"].unique()\n",
    "df2[\"Type\"].value_counts()\n",
    "df2.replace({\"Questionable\":\"Invalid\",\"Boat\":\"Boating\",\"Boatomg\":\"Boating\"},inplace=True)\n",
    "df2[\"Type\"].value_counts()"
   ]
  },
  {
   "cell_type": "markdown",
   "id": "034cbaa4",
   "metadata": {},
   "source": [
    "#### C. Fatal (Y/N)"
   ]
  },
  {
   "cell_type": "markdown",
   "id": "a00b7c89",
   "metadata": {},
   "source": [
    "Ahora voy a ver los valores únicos de la columna \"Fatal (Y/N)\", dejando únicamente 3:Y,N y Unkown."
   ]
  },
  {
   "cell_type": "code",
   "execution_count": 15,
   "id": "ee1725fc",
   "metadata": {},
   "outputs": [
    {
     "data": {
      "text/plain": [
       "Unknown    4906\n",
       "Y          1389\n",
       "N             7\n",
       "Name: Fatal (Y/N), dtype: int64"
      ]
     },
     "execution_count": 15,
     "metadata": {},
     "output_type": "execute_result"
    }
   ],
   "source": [
    "df2[\"Fatal (Y/N)\"].value_counts()\n",
    "df2[\"Fatal (Y/N)\"].replace({\"UNKNOWN\":\"Unknown\",\" N\":\"N\",\"y\":\"Y\",\"M\":\"Unknown\",\"2017\":\"Unknown\",\"N \":\"Unknown\",\"Unkown\":\"Unknown\" },inplace=True)\n",
    "df2[\"Fatal (Y/N)\"].value_counts()"
   ]
  },
  {
   "cell_type": "markdown",
   "id": "681c8b94",
   "metadata": {},
   "source": [
    "### 5.2. Usando Regex: Species, Activitiy, Injury."
   ]
  },
  {
   "cell_type": "markdown",
   "id": "a8294645",
   "metadata": {},
   "source": [
    "#### A. Species."
   ]
  },
  {
   "cell_type": "code",
   "execution_count": 16,
   "id": "8ddf842f",
   "metadata": {
    "scrolled": true
   },
   "outputs": [],
   "source": [
    "especies=df2[\"Species\"].unique()"
   ]
  },
  {
   "cell_type": "code",
   "execution_count": 17,
   "id": "9a5b0112",
   "metadata": {},
   "outputs": [],
   "source": [
    "df2[\"Species\"]= df2[\"Species\"].apply(cf.funcion_valores_unicos)"
   ]
  },
  {
   "cell_type": "code",
   "execution_count": 18,
   "id": "73930079",
   "metadata": {},
   "outputs": [
    {
     "data": {
      "text/plain": [
       "Others                       4093\n",
       "White shark                   667\n",
       "Involvement not confirmed     327\n",
       "Tiger shark                   283\n",
       "Bull shark                    175\n",
       "Blacktip shark                101\n",
       "Nurse shark                    97\n",
       "Whaler shark                   70\n",
       "Blue shark                     56\n",
       "Wobbegong shark                50\n",
       "Hammerhead shark               48\n",
       "Mako shark                     44\n",
       "Raggedtooth shark              42\n",
       "Lemon shark                    37\n",
       "Zambesi shark                  29\n",
       "Grey shark                     25\n",
       "Sand shark                     24\n",
       "Red shark                      23\n",
       "Spinner shark                  21\n",
       "Caribbean reef shark           16\n",
       "Sevengill shark                13\n",
       "Dusky shark                    11\n",
       "Porbeagle shark                 7\n",
       "Galapagos shark                 7\n",
       "Angel shark                     6\n",
       "Copper shark                    5\n",
       "Silky shark                     4\n",
       "Thresher shark                  4\n",
       "Salmon shark                    3\n",
       "Dogfish shark                   3\n",
       "Goblin shark                    2\n",
       "Cow shark                       2\n",
       "Leopard shark                   2\n",
       "Silvertip shark                 2\n",
       "Zambezi shark                   2\n",
       "Blacktail shark                 1\n",
       "Name: Species, dtype: int64"
      ]
     },
     "execution_count": 18,
     "metadata": {},
     "output_type": "execute_result"
    }
   ],
   "source": [
    "df2.Species.value_counts()"
   ]
  },
  {
   "cell_type": "markdown",
   "id": "5f0d2d53",
   "metadata": {},
   "source": [
    "#### B. Activity."
   ]
  },
  {
   "cell_type": "code",
   "execution_count": 19,
   "id": "7ebb6bc0",
   "metadata": {},
   "outputs": [],
   "source": [
    "activities=df2[\"Activity\"].unique()"
   ]
  },
  {
   "cell_type": "code",
   "execution_count": 20,
   "id": "e612ba3a",
   "metadata": {},
   "outputs": [],
   "source": [
    "df2[\"Activity\"]= df2[\"Activity\"].apply(cf.valores_unicos_activity)"
   ]
  },
  {
   "cell_type": "code",
   "execution_count": 21,
   "id": "a53fcd96",
   "metadata": {},
   "outputs": [
    {
     "data": {
      "text/plain": [
       "Others                  2489\n",
       "Fishing                 1171\n",
       "Swimming                1106\n",
       "Diving                   511\n",
       "Bathing                  185\n",
       "Interact with sharks     154\n",
       "Standing in water        141\n",
       "Body Boarding            136\n",
       "Boat                     105\n",
       "OverBoard                 85\n",
       "Boogie Board              51\n",
       "Floating                  45\n",
       "Paddling                  37\n",
       "Walking                   26\n",
       "Wind Surfing              23\n",
       "Kite                      22\n",
       "Jumping                   15\n",
       "Name: Activity, dtype: int64"
      ]
     },
     "execution_count": 21,
     "metadata": {},
     "output_type": "execute_result"
    }
   ],
   "source": [
    "df2.Activity.value_counts()"
   ]
  },
  {
   "cell_type": "markdown",
   "id": "fbf0e622",
   "metadata": {},
   "source": [
    "#### C. Injury."
   ]
  },
  {
   "cell_type": "code",
   "execution_count": 36,
   "id": "ce410c0c",
   "metadata": {},
   "outputs": [],
   "source": [
    "injury=df2[\"Injury\"].unique()"
   ]
  },
  {
   "cell_type": "code",
   "execution_count": 37,
   "id": "c7a12e4b",
   "metadata": {},
   "outputs": [],
   "source": [
    "df2[\"Injury\"] = df2[\"Injury\"].apply(cf.valores_unicos_injury)"
   ]
  },
  {
   "cell_type": "code",
   "execution_count": 38,
   "id": "c181f5ff",
   "metadata": {},
   "outputs": [
    {
     "data": {
      "text/plain": [
       "Fatal              1183\n",
       "Others             1135\n",
       "Leg injury          889\n",
       "No injury           804\n",
       "Laceration          555\n",
       "Foot Injury         475\n",
       "Hand injury         461\n",
       "Thigh Injury        194\n",
       "Minor Injury        159\n",
       "Calf Injury         136\n",
       "Ankle Injury         84\n",
       "Shoulder Injury      50\n",
       "Knee Injury          40\n",
       "Torso Injury         34\n",
       "Abrasion Injury      26\n",
       "Elbow Injury         24\n",
       "Chest Injury         23\n",
       "Feet Injury          17\n",
       "Puncture wounds      13\n",
       "Name: Injury, dtype: int64"
      ]
     },
     "execution_count": 38,
     "metadata": {},
     "output_type": "execute_result"
    }
   ],
   "source": [
    "df2.Injury.value_counts()"
   ]
  },
  {
   "cell_type": "code",
   "execution_count": 39,
   "id": "1402d2cf",
   "metadata": {},
   "outputs": [
    {
     "data": {
      "text/plain": [
       "['No injury',\n",
       " 'Minor Injury',\n",
       " 'Leg injury',\n",
       " 'Hand injury',\n",
       " 'Fatal',\n",
       " 'Others',\n",
       " 'Laceration',\n",
       " 'Ankle Injury',\n",
       " 'Foot Injury',\n",
       " 'Feet Injury',\n",
       " 'Shoulder Injury',\n",
       " 'Calf Injury',\n",
       " 'Abrasion Injury',\n",
       " 'Torso Injury',\n",
       " 'Thigh Injury',\n",
       " 'Elbow Injury',\n",
       " 'Knee Injury',\n",
       " 'Puncture wounds',\n",
       " 'Chest Injury']"
      ]
     },
     "execution_count": 39,
     "metadata": {},
     "output_type": "execute_result"
    }
   ],
   "source": [
    "list(df2.Injury.unique())"
   ]
  },
  {
   "cell_type": "markdown",
   "id": "baeb25e3",
   "metadata": {},
   "source": [
    "### 5.3. Otros: Country, Name, Year."
   ]
  },
  {
   "cell_type": "markdown",
   "id": "3c6ac2cd",
   "metadata": {},
   "source": [
    "#### a. Country."
   ]
  },
  {
   "cell_type": "markdown",
   "id": "718d7e7f",
   "metadata": {},
   "source": [
    "Obtengo los valores únicos de la columa Países:"
   ]
  },
  {
   "cell_type": "code",
   "execution_count": 22,
   "id": "8e0dabdd",
   "metadata": {},
   "outputs": [
    {
     "data": {
      "text/plain": [
       "array(['USA', 'AUSTRALIA', 'MEXICO', 'BRAZIL', 'ENGLAND', 'SOUTH AFRICA',\n",
       "       'THAILAND', 'COSTA RICA', 'MALDIVES', 'BAHAMAS', 'NEW CALEDONIA',\n",
       "       'ECUADOR', 'MALAYSIA', 'LIBYA', 'Unknown', 'CUBA', 'MAURITIUS',\n",
       "       'NEW ZEALAND', 'SPAIN', 'SAMOA', 'SOLOMON ISLANDS', 'JAPAN',\n",
       "       'EGYPT', 'ST HELENA, British overseas territory', 'COMOROS',\n",
       "       'REUNION', 'FRENCH POLYNESIA', 'UNITED KINGDOM',\n",
       "       'UNITED ARAB EMIRATES', 'PHILIPPINES', 'INDONESIA', 'CHINA',\n",
       "       'COLUMBIA', 'CAPE VERDE', 'Fiji', 'DOMINICAN REPUBLIC',\n",
       "       'CAYMAN ISLANDS', 'ARUBA', 'MOZAMBIQUE', 'FIJI', 'PUERTO RICO',\n",
       "       'ITALY', 'ATLANTIC OCEAN', 'GREECE', 'ST. MARTIN', 'FRANCE',\n",
       "       'PAPUA NEW GUINEA', 'TRINIDAD & TOBAGO', 'KIRIBATI', 'ISRAEL',\n",
       "       'DIEGO GARCIA', 'TAIWAN', 'JAMAICA', 'PALESTINIAN TERRITORIES',\n",
       "       'GUAM', 'SEYCHELLES', 'BELIZE', 'NIGERIA', 'TONGA', 'SCOTLAND',\n",
       "       'CANADA', 'CROATIA', 'SAUDI ARABIA', 'CHILE', 'ANTIGUA', 'KENYA',\n",
       "       'RUSSIA', 'TURKS & CAICOS', 'UNITED ARAB EMIRATES (UAE)', 'AZORES',\n",
       "       'SOUTH KOREA', 'MALTA', 'VIETNAM', 'MADAGASCAR', 'PANAMA',\n",
       "       'SOMALIA', 'NEVIS', 'BRITISH VIRGIN ISLANDS', 'NORWAY', 'SENEGAL',\n",
       "       'YEMEN', 'GULF OF ADEN', 'Sierra Leone', 'ST. MAARTIN',\n",
       "       'GRAND CAYMAN', 'Seychelles', 'LIBERIA', 'VANUATU', 'MEXICO ',\n",
       "       'HONDURAS', 'VENEZUELA', 'SRI LANKA', ' TONGA', 'URUGUAY', 'INDIA',\n",
       "       'MICRONESIA', 'CARIBBEAN SEA', 'OKINAWA', 'TANZANIA',\n",
       "       'MARSHALL ISLANDS', 'EGYPT / ISRAEL', 'NORTHERN ARABIAN SEA',\n",
       "       'HONG KONG', 'EL SALVADOR', 'ANGOLA', 'BERMUDA', 'MONTENEGRO',\n",
       "       'IRAN', 'TUNISIA', 'NAMIBIA', 'NORTH ATLANTIC OCEAN', 'PORTUGAL',\n",
       "       'SOUTH CHINA SEA', 'BANGLADESH', 'PALAU', 'WESTERN SAMOA',\n",
       "       'PACIFIC OCEAN ', 'BRITISH ISLES', 'GRENADA', 'IRAQ', 'TURKEY',\n",
       "       'SINGAPORE', 'NEW BRITAIN', 'SUDAN', 'JOHNSTON ISLAND',\n",
       "       'SOUTH PACIFIC OCEAN', 'NEW GUINEA', 'RED SEA',\n",
       "       'NORTH PACIFIC OCEAN', 'FEDERATED STATES OF MICRONESIA',\n",
       "       'MID ATLANTIC OCEAN', 'ADMIRALTY ISLANDS', 'BRITISH WEST INDIES',\n",
       "       'SOUTH ATLANTIC OCEAN', 'PERSIAN GULF', 'RED SEA / INDIAN OCEAN',\n",
       "       'PACIFIC OCEAN', 'NORTH SEA', 'NICARAGUA ', 'MALDIVE ISLANDS',\n",
       "       'AMERICAN SAMOA', 'ANDAMAN / NICOBAR ISLANDAS', 'GABON', 'MAYOTTE',\n",
       "       'NORTH ATLANTIC OCEAN ', 'THE BALKANS', 'SUDAN?', 'ARGENTINA',\n",
       "       'MARTINIQUE', 'INDIAN OCEAN', 'GUATEMALA', 'NETHERLANDS ANTILLES',\n",
       "       'NORTHERN MARIANA ISLANDS', 'IRAN / IRAQ', 'JAVA', 'SIERRA LEONE',\n",
       "       ' PHILIPPINES', 'NICARAGUA', 'CENTRAL PACIFIC',\n",
       "       'SOLOMON ISLANDS / VANUATU', 'SOUTHWEST PACIFIC OCEAN',\n",
       "       'BAY OF BENGAL', 'MID-PACIFC OCEAN', 'SLOVENIA', 'CURACAO',\n",
       "       'ICELAND', 'ITALY / CROATIA', 'BARBADOS', 'MONACO', 'GUYANA',\n",
       "       'HAITI', 'SAN DOMINGO', 'IRELAND', 'KUWAIT', 'YEMEN ',\n",
       "       'REUNION ISLAND', 'FALKLAND ISLANDS', 'CRETE', 'CYPRUS', 'EGYPT ',\n",
       "       'WEST INDIES', 'BURMA', 'LEBANON', 'PARAGUAY',\n",
       "       'BRITISH NEW GUINEA', 'CEYLON', 'OCEAN', 'GEORGIA', 'SYRIA',\n",
       "       'TUVALU', 'INDIAN OCEAN?', 'GUINEA', 'ANDAMAN ISLANDS',\n",
       "       'EQUATORIAL GUINEA / CAMEROON', 'COOK ISLANDS', 'TOBAGO', 'PERU',\n",
       "       'AFRICA', 'ALGERIA', 'Coast of AFRICA', 'TASMAN SEA', 'GHANA',\n",
       "       'GREENLAND', 'MEDITERRANEAN SEA', 'SWEDEN', 'ROATAN',\n",
       "       'Between PORTUGAL & INDIA', 'DJIBOUTI', 'BAHREIN', 'KOREA',\n",
       "       'RED SEA?', 'ASIA?', 'CEYLON (SRI LANKA)'], dtype=object)"
      ]
     },
     "execution_count": 22,
     "metadata": {},
     "output_type": "execute_result"
    }
   ],
   "source": [
    "(df2[\"Country\"].unique())"
   ]
  },
  {
   "cell_type": "markdown",
   "id": "bbc39a8a",
   "metadata": {},
   "source": [
    "Ahora usando \".apply\" importo y aplico la función que he creado en \"Cleaning_functions.py\"para determinar si cada país de la columna Country pertenece al Hemisferio Norte o al Hemisferio Sur y veo que efectivamente se crea otra columna llamada Hemisferio."
   ]
  },
  {
   "cell_type": "code",
   "execution_count": 23,
   "id": "7621df7e",
   "metadata": {},
   "outputs": [],
   "source": [
    "df2[\"Hemisphere\"] = df2[\"Country\"].apply(cf.hemisferio) "
   ]
  },
  {
   "cell_type": "markdown",
   "id": "6910a6ca",
   "metadata": {},
   "source": [
    "#### b. Name."
   ]
  },
  {
   "cell_type": "markdown",
   "id": "d12c2b14",
   "metadata": {},
   "source": [
    "Tras comprobar los valores únicos de esta columna y, al no ser de utilidad, para verificar o refutar mis tres hipótesis, dejo la columna \"Name\" tal y como estaba."
   ]
  },
  {
   "cell_type": "code",
   "execution_count": 40,
   "id": "1f8c42ee",
   "metadata": {
    "scrolled": true
   },
   "outputs": [],
   "source": [
    "nombres=list(df2[\"Name\"].unique())\n",
    "frecuencianombres=list(df2[\"Name\"].value_counts(sort=False)) #Podemos incluir el parámetro \"Sort=False\" para que no me ordene la frecuenecia con la que aparecen los valores únicos de forma descendente y lo deje en el miso orden que aparecen en el dataframe."
   ]
  },
  {
   "cell_type": "markdown",
   "id": "10d84717",
   "metadata": {},
   "source": [
    "#### F. Year."
   ]
  },
  {
   "cell_type": "markdown",
   "id": "c7f3345a",
   "metadata": {},
   "source": [
    "A través de una función que he creado e importado de mi archivo de funciones de Visual Code, limpio los valores de esta columna que eran flotantes y los convierto en números enteros."
   ]
  },
  {
   "cell_type": "code",
   "execution_count": 32,
   "id": "575c4226",
   "metadata": {},
   "outputs": [],
   "source": [
    "años=df2[\"Year\"].unique()"
   ]
  },
  {
   "cell_type": "code",
   "execution_count": 33,
   "id": "4221e9cb",
   "metadata": {},
   "outputs": [],
   "source": [
    "df2[\"Year\"]=df2[\"Year\"].apply(cf.años)"
   ]
  },
  {
   "cell_type": "markdown",
   "id": "0b83aada",
   "metadata": {},
   "source": [
    "### Importo el csv limpio:"
   ]
  },
  {
   "cell_type": "code",
   "execution_count": 34,
   "id": "27751f59",
   "metadata": {},
   "outputs": [],
   "source": [
    "df2.to_csv('Data/attacks_clean.csv')"
   ]
  }
 ],
 "metadata": {
  "kernelspec": {
   "display_name": "ironhack",
   "language": "python",
   "name": "ironhack"
  },
  "language_info": {
   "codemirror_mode": {
    "name": "ipython",
    "version": 3
   },
   "file_extension": ".py",
   "mimetype": "text/x-python",
   "name": "python",
   "nbconvert_exporter": "python",
   "pygments_lexer": "ipython3",
   "version": "3.8.5"
  }
 },
 "nbformat": 4,
 "nbformat_minor": 5
}
