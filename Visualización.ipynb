{
 "cells": [
  {
   "cell_type": "code",
   "execution_count": 140,
   "id": "37e3ef40",
   "metadata": {},
   "outputs": [
    {
     "name": "stdout",
     "output_type": "stream",
     "text": [
      "Collecting package metadata (current_repodata.json): done\n",
      "Solving environment: done\n",
      "\n",
      "\n",
      "==> WARNING: A newer version of conda exists. <==\n",
      "  current version: 4.10.1\n",
      "  latest version: 4.10.3\n",
      "\n",
      "Please update conda by running\n",
      "\n",
      "    $ conda update -n base -c defaults conda\n",
      "\n",
      "\n",
      "\n",
      "# All requested packages already installed.\n",
      "\n"
     ]
    }
   ],
   "source": [
    "import pandas as pd\n",
    "import numpy as np\n",
    "import seaborn as sns\n",
    "df = pd.read_csv(\"DATA/attacks_clean.csv\", index_col=0)\n",
    "import re\n",
    "import sys\n",
    "sys.path.append('../')\n",
    "import src.visualizations as vis\n",
    "!conda install --yes --prefix {sys.prefix} plotly\n",
    "sns.set_context(\"poster\")\n",
    "sns.set(rc={\"figure.figsize\": (12.,6.)})\n",
    "sns.set_style(\"whitegrid\")\n",
    "%matplotlib inline\n",
    "%config Inlinebackend.figure_format= 'retina'"
   ]
  },
  {
   "cell_type": "markdown",
   "id": "690b4084",
   "metadata": {},
   "source": [
    "### HIPÓTESIS 1: En 2018 hubo más ataques de tiburones tigre en el hemisferio sur que en 1990."
   ]
  },
  {
   "cell_type": "code",
   "execution_count": 141,
   "id": "583ed121",
   "metadata": {},
   "outputs": [
    {
     "data": {
      "text/html": [
       "<div>\n",
       "<style scoped>\n",
       "    .dataframe tbody tr th:only-of-type {\n",
       "        vertical-align: middle;\n",
       "    }\n",
       "\n",
       "    .dataframe tbody tr th {\n",
       "        vertical-align: top;\n",
       "    }\n",
       "\n",
       "    .dataframe thead th {\n",
       "        text-align: right;\n",
       "    }\n",
       "</style>\n",
       "<table border=\"1\" class=\"dataframe\">\n",
       "  <thead>\n",
       "    <tr style=\"text-align: right;\">\n",
       "      <th></th>\n",
       "      <th>Date</th>\n",
       "      <th>Year</th>\n",
       "      <th>Type</th>\n",
       "      <th>Country</th>\n",
       "      <th>Area</th>\n",
       "      <th>Location</th>\n",
       "      <th>Activity</th>\n",
       "      <th>Name</th>\n",
       "      <th>Sex</th>\n",
       "      <th>Age</th>\n",
       "      <th>Injury</th>\n",
       "      <th>Fatal (Y/N)</th>\n",
       "      <th>Time</th>\n",
       "      <th>Species</th>\n",
       "      <th>Investigator or Source</th>\n",
       "      <th>Hemisphere</th>\n",
       "    </tr>\n",
       "  </thead>\n",
       "  <tbody>\n",
       "    <tr>\n",
       "      <th>4</th>\n",
       "      <td>04-Jun-2018</td>\n",
       "      <td>2018</td>\n",
       "      <td>Provoked</td>\n",
       "      <td>MEXICO</td>\n",
       "      <td>Colima</td>\n",
       "      <td>La Ticla</td>\n",
       "      <td>Diving</td>\n",
       "      <td>Gustavo Ramos</td>\n",
       "      <td>M</td>\n",
       "      <td>Unknown</td>\n",
       "      <td>Hand injury</td>\n",
       "      <td>Unknown</td>\n",
       "      <td>Unknown</td>\n",
       "      <td>Tiger shark</td>\n",
       "      <td>A .Kipper</td>\n",
       "      <td>Hemisferio norte</td>\n",
       "    </tr>\n",
       "    <tr>\n",
       "      <th>6</th>\n",
       "      <td>03-Jun-2018</td>\n",
       "      <td>2018</td>\n",
       "      <td>Unprovoked</td>\n",
       "      <td>BRAZIL</td>\n",
       "      <td>Pernambuco</td>\n",
       "      <td>Piedade Beach, Recife</td>\n",
       "      <td>Swimming</td>\n",
       "      <td>Jose Ernesto da Silva</td>\n",
       "      <td>M</td>\n",
       "      <td>18</td>\n",
       "      <td>Fatal</td>\n",
       "      <td>Y</td>\n",
       "      <td>Late afternoon</td>\n",
       "      <td>Tiger shark</td>\n",
       "      <td>Diario de Pernambuco, 6/4/2018</td>\n",
       "      <td>Hemisferio sur</td>\n",
       "    </tr>\n",
       "  </tbody>\n",
       "</table>\n",
       "</div>"
      ],
      "text/plain": [
       "          Date  Year        Type Country        Area               Location  \\\n",
       "4  04-Jun-2018  2018    Provoked  MEXICO      Colima               La Ticla   \n",
       "6  03-Jun-2018  2018  Unprovoked  BRAZIL  Pernambuco  Piedade Beach, Recife   \n",
       "\n",
       "   Activity                    Name Sex      Age       Injury Fatal (Y/N)  \\\n",
       "4    Diving          Gustavo Ramos    M  Unknown  Hand injury     Unknown   \n",
       "6  Swimming  Jose Ernesto da Silva    M       18        Fatal           Y   \n",
       "\n",
       "             Time      Species          Investigator or Source  \\\n",
       "4         Unknown  Tiger shark                       A .Kipper   \n",
       "6  Late afternoon  Tiger shark  Diario de Pernambuco, 6/4/2018   \n",
       "\n",
       "         Hemisphere  \n",
       "4  Hemisferio norte  \n",
       "6    Hemisferio sur  "
      ]
     },
     "execution_count": 141,
     "metadata": {},
     "output_type": "execute_result"
    }
   ],
   "source": [
    "df_year_species = df[(df[\"Year\"].isin([\"1990\",\"2018\"])) & (df[\"Species\"] == 'Tiger shark')]\n",
    "df_year_species.head(2)"
   ]
  },
  {
   "cell_type": "code",
   "execution_count": 142,
   "id": "d2257ee9",
   "metadata": {},
   "outputs": [
    {
     "data": {
      "image/png": "[encoded data removed]",
      "text/plain": [
       "<Figure size 432x288 with 1 Axes>"
      ]
     },
     "metadata": {
      "needs_background": "light"
     },
     "output_type": "display_data"
    }
   ],
   "source": [
    "sns.countplot(x=\"Year\", hue=\"Hemisphere\", data=df_year_species,palette=\"magma\");"
   ]
  },
  {
   "cell_type": "markdown",
   "id": "fcd3a312",
   "metadata": {},
   "source": [
    "Como se puede apreciar en el gráfico anterior, se verifica la Hipótesis 1 puesto que efectivamente hubo más ataques de tiburones Tigre en el Hemiferio Sur en el año 2018 (2) vs 1990 (1)."
   ]
  },
  {
   "cell_type": "markdown",
   "id": "74af1248",
   "metadata": {},
   "source": [
    "### HIPÓTESIS 2: En México hay más ataques de tiburones blancos que en USA."
   ]
  },
  {
   "cell_type": "markdown",
   "id": "bb12024d",
   "metadata": {},
   "source": [
    "Primero, voy a ver cuántos ataques de tiburones Blancos ha habido en los países donde se producen mayor número de ataques en el mundo y vemos que es USA el país que encabeza el ranking."
   ]
  },
  {
   "cell_type": "code",
   "execution_count": 143,
   "id": "3ee1c78a",
   "metadata": {},
   "outputs": [],
   "source": [
    "df_pais_specie=df[(df[\"Country\"].isin([\"MEXICO\",\"USA\",\"AUSTRALIA\",\"SOUTH AFRICA\",\"PAPUA NEW GUINEA\",\"NEW ZEALAND\"])) & (df[\"Species\"] == 'White shark')]"
   ]
  },
  {
   "cell_type": "code",
   "execution_count": 144,
   "id": "7f9ac36c",
   "metadata": {},
   "outputs": [
    {
     "data": {
      "image/png": "[encoded data removed]",
      "text/plain": [
       "<Figure size 432x288 with 1 Axes>"
      ]
     },
     "metadata": {
      "needs_background": "light"
     },
     "output_type": "display_data"
    }
   ],
   "source": [
    "sns.countplot(y=\"Country\", data=df_pais_specie,palette = \"Spectral\"); "
   ]
  },
  {
   "cell_type": "code",
   "execution_count": 145,
   "id": "405ea9f0",
   "metadata": {},
   "outputs": [
    {
     "data": {
      "text/html": [
       "<div>\n",
       "<style scoped>\n",
       "    .dataframe tbody tr th:only-of-type {\n",
       "        vertical-align: middle;\n",
       "    }\n",
       "\n",
       "    .dataframe tbody tr th {\n",
       "        vertical-align: top;\n",
       "    }\n",
       "\n",
       "    .dataframe thead th {\n",
       "        text-align: right;\n",
       "    }\n",
       "</style>\n",
       "<table border=\"1\" class=\"dataframe\">\n",
       "  <thead>\n",
       "    <tr style=\"text-align: right;\">\n",
       "      <th></th>\n",
       "      <th>Date</th>\n",
       "      <th>Year</th>\n",
       "      <th>Type</th>\n",
       "      <th>Country</th>\n",
       "      <th>Area</th>\n",
       "      <th>Location</th>\n",
       "      <th>Activity</th>\n",
       "      <th>Name</th>\n",
       "      <th>Sex</th>\n",
       "      <th>Age</th>\n",
       "      <th>Injury</th>\n",
       "      <th>Fatal (Y/N)</th>\n",
       "      <th>Time</th>\n",
       "      <th>Species</th>\n",
       "      <th>Investigator or Source</th>\n",
       "      <th>Hemisphere</th>\n",
       "    </tr>\n",
       "  </thead>\n",
       "  <tbody>\n",
       "    <tr>\n",
       "      <th>0</th>\n",
       "      <td>25-Jun-2018</td>\n",
       "      <td>2018</td>\n",
       "      <td>Boating</td>\n",
       "      <td>USA</td>\n",
       "      <td>California</td>\n",
       "      <td>Oceanside, San Diego County</td>\n",
       "      <td>Paddling</td>\n",
       "      <td>Julie Wolfe</td>\n",
       "      <td>F</td>\n",
       "      <td>57</td>\n",
       "      <td>No injury</td>\n",
       "      <td>Unknown</td>\n",
       "      <td>18h00</td>\n",
       "      <td>White shark</td>\n",
       "      <td>R. Collier, GSAF</td>\n",
       "      <td>Hemisferio norte</td>\n",
       "    </tr>\n",
       "    <tr>\n",
       "      <th>60</th>\n",
       "      <td>24-Nov-2017</td>\n",
       "      <td>2017</td>\n",
       "      <td>Unprovoked</td>\n",
       "      <td>USA</td>\n",
       "      <td>California</td>\n",
       "      <td>Stillwater Cove, Monterey County</td>\n",
       "      <td>Fishing</td>\n",
       "      <td>Grigor Azatian</td>\n",
       "      <td>M</td>\n",
       "      <td>25</td>\n",
       "      <td>Leg injury</td>\n",
       "      <td>Unknown</td>\n",
       "      <td>13h45</td>\n",
       "      <td>White shark</td>\n",
       "      <td>R. Collier, GSAF</td>\n",
       "      <td>Hemisferio norte</td>\n",
       "    </tr>\n",
       "    <tr>\n",
       "      <th>100</th>\n",
       "      <td>23-Aug-2017</td>\n",
       "      <td>2017</td>\n",
       "      <td>Unprovoked</td>\n",
       "      <td>USA</td>\n",
       "      <td>Massachusetts</td>\n",
       "      <td>Marconi Beach, Wellfleet, Barnstable County</td>\n",
       "      <td>Others</td>\n",
       "      <td>Cleveland Bigelow</td>\n",
       "      <td>M</td>\n",
       "      <td>69</td>\n",
       "      <td>Others</td>\n",
       "      <td>Unknown</td>\n",
       "      <td>10h00</td>\n",
       "      <td>White shark</td>\n",
       "      <td>Cape Cod Times, 8/23/2017</td>\n",
       "      <td>Hemisferio norte</td>\n",
       "    </tr>\n",
       "    <tr>\n",
       "      <th>105</th>\n",
       "      <td>01-Aug-2017</td>\n",
       "      <td>2017</td>\n",
       "      <td>Boating</td>\n",
       "      <td>USA</td>\n",
       "      <td>California</td>\n",
       "      <td>Between Pescadero Point &amp; Bean Hollow Beach, S...</td>\n",
       "      <td>Fishing</td>\n",
       "      <td>Patrick Conroy</td>\n",
       "      <td>M</td>\n",
       "      <td>Unknown</td>\n",
       "      <td>No injury</td>\n",
       "      <td>Unknown</td>\n",
       "      <td>10h45</td>\n",
       "      <td>White shark</td>\n",
       "      <td>R. Collier, GSAF</td>\n",
       "      <td>Hemisferio norte</td>\n",
       "    </tr>\n",
       "    <tr>\n",
       "      <th>116</th>\n",
       "      <td>20-Jul-2017</td>\n",
       "      <td>2017</td>\n",
       "      <td>Boating</td>\n",
       "      <td>USA</td>\n",
       "      <td>California</td>\n",
       "      <td>Stearns Wharf, Santa Barbara</td>\n",
       "      <td>Others</td>\n",
       "      <td>Bret Jackson</td>\n",
       "      <td>M</td>\n",
       "      <td>40</td>\n",
       "      <td>No injury</td>\n",
       "      <td>Unknown</td>\n",
       "      <td>11h20</td>\n",
       "      <td>White shark</td>\n",
       "      <td>R. Collier, GSAF</td>\n",
       "      <td>Hemisferio norte</td>\n",
       "    </tr>\n",
       "  </tbody>\n",
       "</table>\n",
       "</div>"
      ],
      "text/plain": [
       "            Date  Year        Type Country           Area  \\\n",
       "0    25-Jun-2018  2018     Boating     USA     California   \n",
       "60   24-Nov-2017  2017  Unprovoked     USA     California   \n",
       "100  23-Aug-2017  2017  Unprovoked     USA  Massachusetts   \n",
       "105  01-Aug-2017  2017     Boating     USA     California   \n",
       "116  20-Jul-2017  2017     Boating     USA     California   \n",
       "\n",
       "                                              Location  Activity  \\\n",
       "0                          Oceanside, San Diego County  Paddling   \n",
       "60                    Stillwater Cove, Monterey County   Fishing   \n",
       "100        Marconi Beach, Wellfleet, Barnstable County    Others   \n",
       "105  Between Pescadero Point & Bean Hollow Beach, S...   Fishing   \n",
       "116                       Stearns Wharf, Santa Barbara    Others   \n",
       "\n",
       "                  Name Sex      Age      Injury Fatal (Y/N)   Time  \\\n",
       "0          Julie Wolfe   F       57   No injury     Unknown  18h00   \n",
       "60      Grigor Azatian   M       25  Leg injury     Unknown  13h45   \n",
       "100  Cleveland Bigelow   M       69      Others     Unknown  10h00   \n",
       "105     Patrick Conroy   M  Unknown   No injury     Unknown  10h45   \n",
       "116       Bret Jackson   M       40   No injury     Unknown  11h20   \n",
       "\n",
       "         Species     Investigator or Source        Hemisphere  \n",
       "0    White shark           R. Collier, GSAF  Hemisferio norte  \n",
       "60   White shark           R. Collier, GSAF  Hemisferio norte  \n",
       "100  White shark  Cape Cod Times, 8/23/2017  Hemisferio norte  \n",
       "105  White shark           R. Collier, GSAF  Hemisferio norte  \n",
       "116  White shark           R. Collier, GSAF  Hemisferio norte  "
      ]
     },
     "execution_count": 145,
     "metadata": {},
     "output_type": "execute_result"
    }
   ],
   "source": [
    "df_pais_white=df[(df[\"Country\"].isin([\"MEXICO\",\"USA\"])) & (df[\"Species\"] == 'White shark')]\n",
    "df_pais_white.head()"
   ]
  },
  {
   "cell_type": "markdown",
   "id": "f0981ead",
   "metadata": {},
   "source": [
    "Con el siguiente gráfico, la hipótesis 2 se refut pues claramente se puede apreciar que en USA se produce un mayor número de ataques de tiburones blancos que en México. "
   ]
  },
  {
   "cell_type": "code",
   "execution_count": 146,
   "id": "1635a25f",
   "metadata": {
    "scrolled": true
   },
   "outputs": [
    {
     "data": {
      "image/png": "[encoded data removed]",
      "text/plain": [
       "<Figure size 432x288 with 1 Axes>"
      ]
     },
     "metadata": {
      "needs_background": "light"
     },
     "output_type": "display_data"
    }
   ],
   "source": [
    "sns.countplot(y=\"Country\", data=df_pais_white, palette=\"crest\");"
   ]
  },
  {
   "cell_type": "markdown",
   "id": "0b32bcfe",
   "metadata": {},
   "source": [
    "### HIPÓTESIS 3: La mayoría de las víctimas que que bucean son mujeres."
   ]
  },
  {
   "cell_type": "markdown",
   "id": "abf6c5be",
   "metadata": {},
   "source": [
    "En primer lugar, vamos a ver la proporción de hombres y mujeres que practican las actividades más comunes."
   ]
  },
  {
   "cell_type": "code",
   "execution_count": 165,
   "id": "5a631975",
   "metadata": {},
   "outputs": [
    {
     "data": {
      "image/png": "[encoded data removed]",
      "text/plain": [
       "<Figure size 432x288 with 1 Axes>"
      ]
     },
     "metadata": {
      "needs_background": "light"
     },
     "output_type": "display_data"
    }
   ],
   "source": [
    "df_activity_sex=df[(df[\"Activity\"].isin([\"Fishing\",\"Swimming\",\"Diving\",\"Bathing\",\"Paddling\"])) & (df[\"Sex\"] != 'Unknown')]\n",
    "sns.histplot(data=df_activity_sex, x=\"Activity\", hue=\"Sex\", palette=\"icefire\");"
   ]
  },
  {
   "cell_type": "markdown",
   "id": "63c8810a",
   "metadata": {},
   "source": [
    "Ahora puedo centrarme exclusivamente en la actividad \"Diving\" para ver la diferencia entre un género y otro:"
   ]
  },
  {
   "cell_type": "code",
   "execution_count": 164,
   "id": "e30c8e8a",
   "metadata": {},
   "outputs": [
    {
     "data": {
      "image/png": "[encoded data removed]",
      "text/plain": [
       "<Figure size 432x288 with 1 Axes>"
      ]
     },
     "metadata": {
      "needs_background": "light"
     },
     "output_type": "display_data"
    }
   ],
   "source": [
    "df_diving_sex=df[(df[\"Activity\"]==\"Diving\") & (df[\"Sex\"] != 'Unknown')]\n",
    "sns.countplot(x=\"Activity\", hue=\"Sex\", data=df_diving_sex, palette=\"magma\");"
   ]
  },
  {
   "cell_type": "markdown",
   "id": "08ffd715",
   "metadata": {},
   "source": [
    "Como se puede apreciar en el gráfico anterior, se refuta la Hipótesis 3 pues la mayoría de las víctimas que practican buceo no son mujeres sino hombres."
   ]
  }
 ],
 "metadata": {
  "kernelspec": {
   "display_name": "ironhack",
   "language": "python",
   "name": "ironhack"
  },
  "language_info": {
   "codemirror_mode": {
    "name": "ipython",
    "version": 3
   },
   "file_extension": ".py",
   "mimetype": "text/x-python",
   "name": "python",
   "nbconvert_exporter": "python",
   "pygments_lexer": "ipython3",
   "version": "3.8.5"
  }
 },
 "nbformat": 4,
 "nbformat_minor": 5
}
